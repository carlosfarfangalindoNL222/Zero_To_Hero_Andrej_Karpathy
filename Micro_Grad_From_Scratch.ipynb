{
 "cells": [
  {
   "cell_type": "code",
   "execution_count": 1,
   "metadata": {},
   "outputs": [],
   "source": [
    "import math\n",
    "import numpy as np\n",
    "import matplotlib.pyplot as plt\n",
    "%matplotlib inline"
   ]
  },
  {
   "cell_type": "code",
   "execution_count": 2,
   "metadata": {},
   "outputs": [],
   "source": [
    "def f(x):\n",
    "    return 3*x**2 - 4*x +5"
   ]
  },
  {
   "cell_type": "code",
   "execution_count": 3,
   "metadata": {},
   "outputs": [
    {
     "data": {
      "text/plain": [
       "20.0"
      ]
     },
     "execution_count": 3,
     "metadata": {},
     "output_type": "execute_result"
    }
   ],
   "source": [
    "f(3.0)"
   ]
  },
  {
   "cell_type": "code",
   "execution_count": 4,
   "metadata": {},
   "outputs": [
    {
     "data": {
      "text/plain": [
       "[<matplotlib.lines.Line2D at 0x127cec8e0>]"
      ]
     },
     "execution_count": 4,
     "metadata": {},
     "output_type": "execute_result"
    },
    {
     "data": {
      "image/png": "[encoded data removed]",
      "text/plain": [
       "<Figure size 640x480 with 1 Axes>"
      ]
     },
     "metadata": {},
     "output_type": "display_data"
    }
   ],
   "source": [
    "xs = np.arange(-10, 10, 0.1)\n",
    "ys = f(xs)\n",
    "plt.plot(xs, ys)"
   ]
  },
  {
   "cell_type": "code",
   "execution_count": 5,
   "metadata": {},
   "outputs": [
    {
     "data": {
      "text/plain": [
       "0.0"
      ]
     },
     "execution_count": 5,
     "metadata": {},
     "output_type": "execute_result"
    }
   ],
   "source": [
    "h = 0.000000000000001\n",
    "x = 2/3\n",
    "(f(x+h) - f(x))/h"
   ]
  },
  {
   "attachments": {},
   "cell_type": "markdown",
   "metadata": {},
   "source": [
    "Derivative of F(x) = ax + b"
   ]
  },
  {
   "cell_type": "code",
   "execution_count": 6,
   "metadata": {},
   "outputs": [],
   "source": [
    "from graphviz import Digraph\n",
    "\n",
    "def trace(root):\n",
    "  # builds a set of all nodes and edges in a graph\n",
    "  nodes, edges = set(), set()\n",
    "  def build(v):\n",
    "    if v not in nodes:\n",
    "      nodes.add(v)\n",
    "      for child in v._prev:\n",
    "        edges.add((child, v))\n",
    "        build(child)\n",
    "  build(root)\n",
    "  return nodes, edges\n",
    "\n",
    "def draw_dot(root):\n",
    "  dot = Digraph(format='svg', graph_attr={'rankdir': 'LR'}) # LR = left to right\n",
    "  \n",
    "  nodes, edges = trace(root)\n",
    "  for n in nodes:\n",
    "    uid = str(id(n))\n",
    "    # for any value in the graph, create a rectangular ('record') node for it\n",
    "    dot.node(name = uid, label = \"{ %s | data %.4f | grad %.4f }\" % (n.label ,n.data, n.grad, ), shape='record')\n",
    "    if n._op:\n",
    "      # if this value is a result of some operation, create an op node for it\n",
    "      dot.node(name = uid + n._op, label = n._op)\n",
    "      # and connect this node to it\n",
    "      dot.edge(uid + n._op, uid)\n",
    "\n",
    "  for n1, n2 in edges:\n",
    "    # connect n1 to the op node of n2\n",
    "    dot.edge(str(id(n1)), str(id(n2)) + n2._op)\n",
    "\n",
    "  return dot"
   ]
  },
  {
   "cell_type": "code",
   "execution_count": 15,
   "metadata": {},
   "outputs": [],
   "source": [
    "# We need to create tissue to connect the neurons together\n",
    "class Value:\n",
    "  \n",
    "  def __init__(self, data, _children=(), _op='', label=''):\n",
    "    self.data = data\n",
    "    self.grad = 0.0\n",
    "    self._backward = lambda: None\n",
    "    self._prev = list(_children)\n",
    "    self._op = _op\n",
    "    self.label = label\n",
    "\n",
    "  def __add__(self, other):\n",
    "    out = Value(self.data + other.data, (self, other), '+')\n",
    "    # c = Value( a+b, (a, b), '+')\n",
    "\n",
    "    # The inputs will always be pointing to the same nodes\n",
    "    # When the values of the nodes changes, the values of the inputs will change\n",
    "    # You only have to call this function when you want to backprop\n",
    "    def _backward_add(child1=self, child2=other, root=out):\n",
    "      child1.grad += 1.0 * root.grad\n",
    "      child2.grad += 1.0 * root.grad\n",
    "    out._backward = _backward_add\n",
    "    \n",
    "    return out\n",
    "  def __pow__(self, other):\n",
    "    out = Value(self.data ** other, (self,), f'**{other}')\n",
    "    # c = Value( a**2, (a, ), '**2')\n",
    "    \n",
    "    def _backward_pow(child=self, root=out):\n",
    "      child.grad += other * child.data**(other-1) * root.grad\n",
    "    out._backward = _backward_pow\n",
    "    \n",
    "    return out\n",
    "  def __mul__(self, other):\n",
    "    out = Value(self.data * other.data, (self, other), '*')\n",
    "    # c = Value( a*b, (a, b), '*')\n",
    "    \n",
    "    def _backward_mul(child1=self, child2=other, root=out):\n",
    "      child1.grad += child2.data * root.grad\n",
    "      child2.grad += child1.data * root.grad\n",
    "    out._backward = _backward_mul\n",
    "      \n",
    "    return out\n",
    "  \n",
    "  def relu(self):\n",
    "        out = Value(0 if self.data < 0 else self.data, (self,), 'ReLU')\n",
    "\n",
    "        def _backward_ReLu(child=self, root=out):\n",
    "            child.grad += (root.data > 0) * root.grad\n",
    "        out._backward = _backward_ReLu\n",
    "\n",
    "        return out\n",
    "  \n",
    "  def backward(self):\n",
    "    \n",
    "    topo = []\n",
    "    visited = set()\n",
    "    def build_topo(v):\n",
    "      if v not in visited:\n",
    "        visited.add(v)\n",
    "        for child in v._prev:\n",
    "          build_topo(child)\n",
    "        topo.append(v)\n",
    "    build_topo(self)\n",
    "    \n",
    "    self.grad = 1.0\n",
    "    for node in reversed(topo):\n",
    "      node._backward()\n",
    "\n",
    "  def __neg__(self): # -self\n",
    "        return self * -1\n",
    "\n",
    "  def __radd__(self, other): # other + self\n",
    "      return self + other\n",
    "\n",
    "  def __sub__(self, other): # self - other\n",
    "      return self + (-other)\n",
    "\n",
    "  def __rsub__(self, other): # other - self\n",
    "      return other + (-self)\n",
    "\n",
    "  def __rmul__(self, other): # other * self\n",
    "      return self * other\n",
    "\n",
    "  def __truediv__(self, other): # self / other\n",
    "      return self * other**-1\n",
    "\n",
    "  def __rtruediv__(self, other): # other / self\n",
    "      return other * self**-1\n",
    "\n",
    "  def __repr__(self):\n",
    "      return f\"Value(data={self.data}, grad={self.grad})\""
   ]
  },
  {
   "cell_type": "code",
   "execution_count": 16,
   "metadata": {},
   "outputs": [],
   "source": [
    "# inputs x1,x2\n",
    "x1 = Value(2.0, label='x1')\n",
    "x2 = Value(0.0, label='x2')\n",
    "# weights w1,w2\n",
    "w1 = Value(-3.0, label='w1')\n",
    "w2 = Value(1.0, label='w2')\n",
    "# bias of the neuron\n",
    "bb = Value(6.8813735870195432, label='bb')\n",
    "# x1*w1 + x2*w2 + b\n",
    "x1w1 = x1*w1; x1w1.label = 'x1*w1'\n",
    "x2w2 = x2*w2; x2w2.label = 'x2*w2'\n",
    "x1w1x2w2 = x1w1 + x2w2; x1w1x2w2.label = 'x1*w1 + x2*w2'\n",
    "n = x1w1x2w2 + bb; n.label = 'n'\n",
    "o = n.tanh(); o.label = 'o'"
   ]
  },
  {
   "cell_type": "code",
   "execution_count": 19,
   "metadata": {},
   "outputs": [
    {
     "data": {
      "image/svg+xml": "<?xml version=\"1.0\" encoding=\"UTF-8\" standalone=\"no\"?>\n<!DOCTYPE svg PUBLIC \"-//W3C//DTD SVG 1.1//EN\"\n \"http://www.w3.org/Graphics/SVG/1.1/DTD/svg11.dtd\">\n<!-- Generated by graphviz version 7.1.0 (20230121.1956)\n -->\n<!-- Pages: 1 -->\n<svg width=\"1575pt\" height=\"210pt\"\n viewBox=\"0.00 0.00 1575.00 210.00\" xmlns=\"http://www.w3.org/2000/svg\" xmlns:xlink=\"http://www.w3.org/1999/xlink\">\n<g id=\"graph0\" class=\"graph\" transform=\"scale(1 1) rotate(0) translate(4 206)\">\n<polygon fill=\"white\" stroke=\"none\" points=\"-4,4 -4,-206 1571,-206 1571,4 -4,4\"/>\n<!-- 4965527040 -->\n<g id=\"node1\" class=\"node\">\n<title>4965527040</title>\n<polygon fill=\"none\" stroke=\"black\" points=\"672,-82.5 672,-118.5 945,-118.5 945,-82.5 672,-82.5\"/>\n<text text-anchor=\"middle\" x=\"725\" y=\"-96.8\" font-family=\"Times,serif\" font-size=\"14.00\">x1*w1 + x2*w2</text>\n<polyline fill=\"none\" stroke=\"black\" points=\"778,-82.5 778,-118.5\"/>\n<text text-anchor=\"middle\" x=\"820.5\" y=\"-96.8\" font-family=\"Times,serif\" font-size=\"14.00\">data &#45;6.0000</text>\n<polyline fill=\"none\" stroke=\"black\" points=\"863,-82.5 863,-118.5\"/>\n<text text-anchor=\"middle\" x=\"904\" y=\"-96.8\" font-family=\"Times,serif\" font-size=\"14.00\">grad 0.5000</text>\n</g>\n<!-- 4965516144+ -->\n<g id=\"node11\" class=\"node\">\n<title>4965516144+</title>\n<ellipse fill=\"none\" stroke=\"black\" cx=\"1008\" cy=\"-127.5\" rx=\"27\" ry=\"18\"/>\n<text text-anchor=\"middle\" x=\"1008\" y=\"-123.8\" font-family=\"Times,serif\" font-size=\"14.00\">+</text>\n</g>\n<!-- 4965527040&#45;&gt;4965516144+ -->\n<g id=\"edge7\" class=\"edge\">\n<title>4965527040&#45;&gt;4965516144+</title>\n<path fill=\"none\" stroke=\"black\" d=\"M940.96,-118.47C951.31,-119.89 961.12,-121.23 969.85,-122.42\"/>\n<polygon fill=\"black\" stroke=\"black\" points=\"969.17,-125.86 979.56,-123.75 970.12,-118.93 969.17,-125.86\"/>\n</g>\n<!-- 4965527040+ -->\n<g id=\"node2\" class=\"node\">\n<title>4965527040+</title>\n<ellipse fill=\"none\" stroke=\"black\" cx=\"609\" cy=\"-100.5\" rx=\"27\" ry=\"18\"/>\n<text text-anchor=\"middle\" x=\"609\" y=\"-96.8\" font-family=\"Times,serif\" font-size=\"14.00\">+</text>\n</g>\n<!-- 4965527040+&#45;&gt;4965527040 -->\n<g id=\"edge1\" class=\"edge\">\n<title>4965527040+&#45;&gt;4965527040</title>\n<path fill=\"none\" stroke=\"black\" d=\"M636.23,-100.5C643.46,-100.5 651.86,-100.5 660.97,-100.5\"/>\n<polygon fill=\"black\" stroke=\"black\" points=\"660.89,-104 670.89,-100.5 660.89,-97 660.89,-104\"/>\n</g>\n<!-- 4965517920 -->\n<g id=\"node3\" class=\"node\">\n<title>4965517920</title>\n<polygon fill=\"none\" stroke=\"black\" points=\"1382,-109.5 1382,-145.5 1567,-145.5 1567,-109.5 1382,-109.5\"/>\n<text text-anchor=\"middle\" x=\"1393.5\" y=\"-123.8\" font-family=\"Times,serif\" font-size=\"14.00\">o</text>\n<polyline fill=\"none\" stroke=\"black\" points=\"1405,-109.5 1405,-145.5\"/>\n<text text-anchor=\"middle\" x=\"1445\" y=\"-123.8\" font-family=\"Times,serif\" font-size=\"14.00\">data 0.7071</text>\n<polyline fill=\"none\" stroke=\"black\" points=\"1485,-109.5 1485,-145.5\"/>\n<text text-anchor=\"middle\" x=\"1526\" y=\"-123.8\" font-family=\"Times,serif\" font-size=\"14.00\">grad 1.0000</text>\n</g>\n<!-- 4965517920tanh -->\n<g id=\"node4\" class=\"node\">\n<title>4965517920tanh</title>\n<ellipse fill=\"none\" stroke=\"black\" cx=\"1319\" cy=\"-127.5\" rx=\"27\" ry=\"18\"/>\n<text text-anchor=\"middle\" x=\"1319\" y=\"-123.8\" font-family=\"Times,serif\" font-size=\"14.00\">tanh</text>\n</g>\n<!-- 4965517920tanh&#45;&gt;4965517920 -->\n<g id=\"edge2\" class=\"edge\">\n<title>4965517920tanh&#45;&gt;4965517920</title>\n<path fill=\"none\" stroke=\"black\" d=\"M1346.39,-127.5C1353.62,-127.5 1361.92,-127.5 1370.74,-127.5\"/>\n<polygon fill=\"black\" stroke=\"black\" points=\"1370.64,-131 1380.64,-127.5 1370.64,-124 1370.64,-131\"/>\n</g>\n<!-- 4965523056 -->\n<g id=\"node5\" class=\"node\">\n<title>4965523056</title>\n<polygon fill=\"none\" stroke=\"black\" points=\"326,-110.5 326,-146.5 546,-146.5 546,-110.5 326,-110.5\"/>\n<text text-anchor=\"middle\" x=\"352.5\" y=\"-124.8\" font-family=\"Times,serif\" font-size=\"14.00\">x1*w1</text>\n<polyline fill=\"none\" stroke=\"black\" points=\"379,-110.5 379,-146.5\"/>\n<text text-anchor=\"middle\" x=\"421.5\" y=\"-124.8\" font-family=\"Times,serif\" font-size=\"14.00\">data &#45;6.0000</text>\n<polyline fill=\"none\" stroke=\"black\" points=\"464,-110.5 464,-146.5\"/>\n<text text-anchor=\"middle\" x=\"505\" y=\"-124.8\" font-family=\"Times,serif\" font-size=\"14.00\">grad 0.5000</text>\n</g>\n<!-- 4965523056&#45;&gt;4965527040+ -->\n<g id=\"edge11\" class=\"edge\">\n<title>4965523056&#45;&gt;4965527040+</title>\n<path fill=\"none\" stroke=\"black\" d=\"M545.78,-110.69C554.79,-109.21 563.43,-107.8 571.25,-106.52\"/>\n<polygon fill=\"black\" stroke=\"black\" points=\"571.64,-110 580.94,-104.93 570.5,-103.09 571.64,-110\"/>\n</g>\n<!-- 4965523056* -->\n<g id=\"node6\" class=\"node\">\n<title>4965523056*</title>\n<ellipse fill=\"none\" stroke=\"black\" cx=\"263\" cy=\"-128.5\" rx=\"27\" ry=\"18\"/>\n<text text-anchor=\"middle\" x=\"263\" y=\"-124.8\" font-family=\"Times,serif\" font-size=\"14.00\">*</text>\n</g>\n<!-- 4965523056*&#45;&gt;4965523056 -->\n<g id=\"edge3\" class=\"edge\">\n<title>4965523056*&#45;&gt;4965523056</title>\n<path fill=\"none\" stroke=\"black\" d=\"M290.34,-128.5C297.6,-128.5 305.98,-128.5 314.97,-128.5\"/>\n<polygon fill=\"black\" stroke=\"black\" points=\"314.69,-132 324.69,-128.5 314.69,-125 314.69,-132\"/>\n</g>\n<!-- 4965527136 -->\n<g id=\"node7\" class=\"node\">\n<title>4965527136</title>\n<polygon fill=\"none\" stroke=\"black\" points=\"328.5,-55.5 328.5,-91.5 543.5,-91.5 543.5,-55.5 328.5,-55.5\"/>\n<text text-anchor=\"middle\" x=\"355\" y=\"-69.8\" font-family=\"Times,serif\" font-size=\"14.00\">x2*w2</text>\n<polyline fill=\"none\" stroke=\"black\" points=\"381.5,-55.5 381.5,-91.5\"/>\n<text text-anchor=\"middle\" x=\"421.5\" y=\"-69.8\" font-family=\"Times,serif\" font-size=\"14.00\">data 0.0000</text>\n<polyline fill=\"none\" stroke=\"black\" points=\"461.5,-55.5 461.5,-91.5\"/>\n<text text-anchor=\"middle\" x=\"502.5\" y=\"-69.8\" font-family=\"Times,serif\" font-size=\"14.00\">grad 0.5000</text>\n</g>\n<!-- 4965527136&#45;&gt;4965527040+ -->\n<g id=\"edge10\" class=\"edge\">\n<title>4965527136&#45;&gt;4965527040+</title>\n<path fill=\"none\" stroke=\"black\" d=\"M543.35,-90.29C553.14,-91.84 562.54,-93.32 570.99,-94.66\"/>\n<polygon fill=\"black\" stroke=\"black\" points=\"570.34,-98.1 580.76,-96.2 571.43,-91.18 570.34,-98.1\"/>\n</g>\n<!-- 4965527136* -->\n<g id=\"node8\" class=\"node\">\n<title>4965527136*</title>\n<ellipse fill=\"none\" stroke=\"black\" cx=\"263\" cy=\"-73.5\" rx=\"27\" ry=\"18\"/>\n<text text-anchor=\"middle\" x=\"263\" y=\"-69.8\" font-family=\"Times,serif\" font-size=\"14.00\">*</text>\n</g>\n<!-- 4965527136*&#45;&gt;4965527136 -->\n<g id=\"edge4\" class=\"edge\">\n<title>4965527136*&#45;&gt;4965527136</title>\n<path fill=\"none\" stroke=\"black\" d=\"M290.34,-73.5C298.24,-73.5 307.46,-73.5 317.34,-73.5\"/>\n<polygon fill=\"black\" stroke=\"black\" points=\"317.24,-77 327.24,-73.5 317.24,-70 317.24,-77\"/>\n</g>\n<!-- 4965527520 -->\n<g id=\"node9\" class=\"node\">\n<title>4965527520</title>\n<polygon fill=\"none\" stroke=\"black\" points=\"4,-55.5 4,-91.5 196,-91.5 196,-55.5 4,-55.5\"/>\n<text text-anchor=\"middle\" x=\"19\" y=\"-69.8\" font-family=\"Times,serif\" font-size=\"14.00\">x2</text>\n<polyline fill=\"none\" stroke=\"black\" points=\"34,-55.5 34,-91.5\"/>\n<text text-anchor=\"middle\" x=\"74\" y=\"-69.8\" font-family=\"Times,serif\" font-size=\"14.00\">data 0.0000</text>\n<polyline fill=\"none\" stroke=\"black\" points=\"114,-55.5 114,-91.5\"/>\n<text text-anchor=\"middle\" x=\"155\" y=\"-69.8\" font-family=\"Times,serif\" font-size=\"14.00\">grad 0.5000</text>\n</g>\n<!-- 4965527520&#45;&gt;4965527136* -->\n<g id=\"edge8\" class=\"edge\">\n<title>4965527520&#45;&gt;4965527136*</title>\n<path fill=\"none\" stroke=\"black\" d=\"M195.59,-73.5C205.66,-73.5 215.42,-73.5 224.23,-73.5\"/>\n<polygon fill=\"black\" stroke=\"black\" points=\"224.07,-77 234.07,-73.5 224.07,-70 224.07,-77\"/>\n</g>\n<!-- 4965516144 -->\n<g id=\"node10\" class=\"node\">\n<title>4965516144</title>\n<polygon fill=\"none\" stroke=\"black\" points=\"1071,-109.5 1071,-145.5 1256,-145.5 1256,-109.5 1071,-109.5\"/>\n<text text-anchor=\"middle\" x=\"1082.5\" y=\"-123.8\" font-family=\"Times,serif\" font-size=\"14.00\">n</text>\n<polyline fill=\"none\" stroke=\"black\" points=\"1094,-109.5 1094,-145.5\"/>\n<text text-anchor=\"middle\" x=\"1134\" y=\"-123.8\" font-family=\"Times,serif\" font-size=\"14.00\">data 0.8814</text>\n<polyline fill=\"none\" stroke=\"black\" points=\"1174,-109.5 1174,-145.5\"/>\n<text text-anchor=\"middle\" x=\"1215\" y=\"-123.8\" font-family=\"Times,serif\" font-size=\"14.00\">grad 0.5000</text>\n</g>\n<!-- 4965516144&#45;&gt;4965517920tanh -->\n<g id=\"edge6\" class=\"edge\">\n<title>4965516144&#45;&gt;4965517920tanh</title>\n<path fill=\"none\" stroke=\"black\" d=\"M1255.57,-127.5C1264.21,-127.5 1272.6,-127.5 1280.28,-127.5\"/>\n<polygon fill=\"black\" stroke=\"black\" points=\"1280.19,-131 1290.19,-127.5 1280.19,-124 1280.19,-131\"/>\n</g>\n<!-- 4965516144+&#45;&gt;4965516144 -->\n<g id=\"edge5\" class=\"edge\">\n<title>4965516144+&#45;&gt;4965516144</title>\n<path fill=\"none\" stroke=\"black\" d=\"M1035.39,-127.5C1042.62,-127.5 1050.92,-127.5 1059.74,-127.5\"/>\n<polygon fill=\"black\" stroke=\"black\" points=\"1059.64,-131 1069.64,-127.5 1059.64,-124 1059.64,-131\"/>\n</g>\n<!-- 4965524880 -->\n<g id=\"node12\" class=\"node\">\n<title>4965524880</title>\n<polygon fill=\"none\" stroke=\"black\" points=\"0,-165.5 0,-201.5 200,-201.5 200,-165.5 0,-165.5\"/>\n<text text-anchor=\"middle\" x=\"16.5\" y=\"-179.8\" font-family=\"Times,serif\" font-size=\"14.00\">w1</text>\n<polyline fill=\"none\" stroke=\"black\" points=\"33,-165.5 33,-201.5\"/>\n<text text-anchor=\"middle\" x=\"75.5\" y=\"-179.8\" font-family=\"Times,serif\" font-size=\"14.00\">data &#45;3.0000</text>\n<polyline fill=\"none\" stroke=\"black\" points=\"118,-165.5 118,-201.5\"/>\n<text text-anchor=\"middle\" x=\"159\" y=\"-179.8\" font-family=\"Times,serif\" font-size=\"14.00\">grad 1.0000</text>\n</g>\n<!-- 4965524880&#45;&gt;4965523056* -->\n<g id=\"edge13\" class=\"edge\">\n<title>4965524880&#45;&gt;4965523056*</title>\n<path fill=\"none\" stroke=\"black\" d=\"M172.27,-165.52C181.67,-162.72 191.12,-159.7 200,-156.5 210.09,-152.87 220.83,-148.29 230.48,-143.89\"/>\n<polygon fill=\"black\" stroke=\"black\" points=\"231.87,-147.11 239.45,-139.71 228.91,-140.76 231.87,-147.11\"/>\n</g>\n<!-- 4965525936 -->\n<g id=\"node13\" class=\"node\">\n<title>4965525936</title>\n<polygon fill=\"none\" stroke=\"black\" points=\"712.5,-137.5 712.5,-173.5 904.5,-173.5 904.5,-137.5 712.5,-137.5\"/>\n<text text-anchor=\"middle\" x=\"727.5\" y=\"-151.8\" font-family=\"Times,serif\" font-size=\"14.00\">bb</text>\n<polyline fill=\"none\" stroke=\"black\" points=\"742.5,-137.5 742.5,-173.5\"/>\n<text text-anchor=\"middle\" x=\"782.5\" y=\"-151.8\" font-family=\"Times,serif\" font-size=\"14.00\">data 6.8814</text>\n<polyline fill=\"none\" stroke=\"black\" points=\"822.5,-137.5 822.5,-173.5\"/>\n<text text-anchor=\"middle\" x=\"863.5\" y=\"-151.8\" font-family=\"Times,serif\" font-size=\"14.00\">grad 0.5000</text>\n</g>\n<!-- 4965525936&#45;&gt;4965516144+ -->\n<g id=\"edge9\" class=\"edge\">\n<title>4965525936&#45;&gt;4965516144+</title>\n<path fill=\"none\" stroke=\"black\" d=\"M904.49,-142.03C927.78,-138.73 951.36,-135.39 970.02,-132.74\"/>\n<polygon fill=\"black\" stroke=\"black\" points=\"970.33,-136.23 979.73,-131.37 969.34,-129.3 970.33,-136.23\"/>\n</g>\n<!-- 4965524928 -->\n<g id=\"node14\" class=\"node\">\n<title>4965524928</title>\n<polygon fill=\"none\" stroke=\"black\" points=\"2.5,-0.5 2.5,-36.5 197.5,-36.5 197.5,-0.5 2.5,-0.5\"/>\n<text text-anchor=\"middle\" x=\"19\" y=\"-14.8\" font-family=\"Times,serif\" font-size=\"14.00\">w2</text>\n<polyline fill=\"none\" stroke=\"black\" points=\"35.5,-0.5 35.5,-36.5\"/>\n<text text-anchor=\"middle\" x=\"75.5\" y=\"-14.8\" font-family=\"Times,serif\" font-size=\"14.00\">data 1.0000</text>\n<polyline fill=\"none\" stroke=\"black\" points=\"115.5,-0.5 115.5,-36.5\"/>\n<text text-anchor=\"middle\" x=\"156.5\" y=\"-14.8\" font-family=\"Times,serif\" font-size=\"14.00\">grad 0.0000</text>\n</g>\n<!-- 4965524928&#45;&gt;4965527136* -->\n<g id=\"edge12\" class=\"edge\">\n<title>4965524928&#45;&gt;4965527136*</title>\n<path fill=\"none\" stroke=\"black\" d=\"M169.02,-36.42C179.47,-39.56 190.08,-42.95 200,-46.5 209.96,-50.06 220.59,-54.46 230.18,-58.66\"/>\n<polygon fill=\"black\" stroke=\"black\" points=\"228.54,-61.76 239.1,-62.66 231.4,-55.37 228.54,-61.76\"/>\n</g>\n<!-- 4965521376 -->\n<g id=\"node15\" class=\"node\">\n<title>4965521376</title>\n<polygon fill=\"none\" stroke=\"black\" points=\"2,-110.5 2,-146.5 198,-146.5 198,-110.5 2,-110.5\"/>\n<text text-anchor=\"middle\" x=\"17\" y=\"-124.8\" font-family=\"Times,serif\" font-size=\"14.00\">x1</text>\n<polyline fill=\"none\" stroke=\"black\" points=\"32,-110.5 32,-146.5\"/>\n<text text-anchor=\"middle\" x=\"72\" y=\"-124.8\" font-family=\"Times,serif\" font-size=\"14.00\">data 2.0000</text>\n<polyline fill=\"none\" stroke=\"black\" points=\"112,-110.5 112,-146.5\"/>\n<text text-anchor=\"middle\" x=\"155\" y=\"-124.8\" font-family=\"Times,serif\" font-size=\"14.00\">grad &#45;1.5000</text>\n</g>\n<!-- 4965521376&#45;&gt;4965523056* -->\n<g id=\"edge14\" class=\"edge\">\n<title>4965521376&#45;&gt;4965523056*</title>\n<path fill=\"none\" stroke=\"black\" d=\"M197.91,-128.5C207.21,-128.5 216.21,-128.5 224.38,-128.5\"/>\n<polygon fill=\"black\" stroke=\"black\" points=\"224.18,-132 234.18,-128.5 224.18,-125 224.18,-132\"/>\n</g>\n</g>\n</svg>\n",
      "text/plain": [
       "<graphviz.graphs.Digraph at 0x127f7eb60>"
      ]
     },
     "execution_count": 19,
     "metadata": {},
     "output_type": "execute_result"
    }
   ],
   "source": [
    "draw_dot(o)"
   ]
  },
  {
   "cell_type": "code",
   "execution_count": 18,
   "metadata": {},
   "outputs": [],
   "source": [
    "# # print label of children of \n",
    "o.backward()"
   ]
  },
  {
   "cell_type": "code",
   "execution_count": 20,
   "metadata": {},
   "outputs": [],
   "source": [
    "import torch"
   ]
  },
  {
   "cell_type": "code",
   "execution_count": 21,
   "metadata": {},
   "outputs": [
    {
     "name": "stdout",
     "output_type": "stream",
     "text": [
      "0.7071066904050358\n",
      "---\n",
      "x2 0.5000001283844369\n",
      "w2 0.0\n",
      "x1 -1.5000003851533106\n",
      "w1 1.0000002567688737\n"
     ]
    }
   ],
   "source": [
    "# Just as in micrograd, pytorch has a tensor class with the same attributes\n",
    "\n",
    "x1 = torch.Tensor([2.0]).double()                ; x1.requires_grad = True\n",
    "x2 = torch.Tensor([0.0]).double()                ; x2.requires_grad = True\n",
    "w1 = torch.Tensor([-3.0]).double()               ; w1.requires_grad = True\n",
    "w2 = torch.Tensor([1.0]).double()                ; w2.requires_grad = True\n",
    "b = torch.Tensor([6.8813735870195432]).double()  ; b.requires_grad = True\n",
    "n = x1*w1 + x2*w2 + b\n",
    "o = torch.tanh(n)\n",
    "\n",
    "print(o.data.item())\n",
    "o.backward()\n",
    "\n",
    "print('---')\n",
    "print('x2', x2.grad.item())\n",
    "print('w2', w2.grad.item())\n",
    "print('x1', x1.grad.item())\n",
    "print('w1', w1.grad.item())"
   ]
  },
  {
   "cell_type": "code",
   "execution_count": 24,
   "metadata": {},
   "outputs": [
    {
     "data": {
      "text/plain": [
       "torch.float64"
      ]
     },
     "execution_count": 24,
     "metadata": {},
     "output_type": "execute_result"
    }
   ],
   "source": [
    "torch.Tensor([[1,2,3],[4,5,6]]).double().dtype"
   ]
  },
  {
   "cell_type": "code",
   "execution_count": null,
   "metadata": {},
   "outputs": [],
   "source": []
  }
 ],
 "metadata": {
  "kernelspec": {
   "display_name": "Python 3",
   "language": "python",
   "name": "python3"
  },
  "language_info": {
   "codemirror_mode": {
    "name": "ipython",
    "version": 3
   },
   "file_extension": ".py",
   "mimetype": "text/x-python",
   "name": "python",
   "nbconvert_exporter": "python",
   "pygments_lexer": "ipython3",
   "version": "3.10.8"
  },
  "orig_nbformat": 4,
  "vscode": {
   "interpreter": {
    "hash": "aee8b7b246df8f9039afb4144a1f6fd8d2ca17a180786b69acc140d282b71a49"
   }
  }
 },
 "nbformat": 4,
 "nbformat_minor": 2
}
